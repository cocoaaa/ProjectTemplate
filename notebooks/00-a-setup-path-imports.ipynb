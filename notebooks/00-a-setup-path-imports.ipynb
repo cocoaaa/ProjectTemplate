{
 "cells": [
  {
   "cell_type": "markdown",
   "metadata": {},
   "source": [
    "# Setup the sys.path and import basic libraries"
   ]
  },
  {
   "cell_type": "markdown",
   "metadata": {},
   "source": [
    "## Import libraries"
   ]
  },
  {
   "cell_type": "code",
   "execution_count": 3,
   "metadata": {},
   "outputs": [],
   "source": [
    "%load_ext autoreload\n",
    "%autoreload 2\n",
    "\n",
    "import pandas as pd\n",
    "import numpy as np\n",
    "import os\n",
    "from pathlib import Path"
   ]
  },
  {
   "cell_type": "markdown",
   "metadata": {},
   "source": [
    "## Set Paths to project root and data dir"
   ]
  },
  {
   "cell_type": "code",
   "execution_count": null,
   "metadata": {},
   "outputs": [],
   "source": [
    "PROJ_ROOT = Path(os.getcwd()).parent\n",
    "DATA_DIR = PROJ_ROOT/'data'\n",
    "\n",
    "data_vegas = DATA_DIR/'raw/AOI_2_Vegas_Roads_Train'\n",
    "data_fname = data_vegas/'img1.tif' "
   ]
  },
  {
   "cell_type": "markdown",
   "metadata": {},
   "source": [
    "## Add to the module search path to link the `src` library"
   ]
  },
  {
   "cell_type": "code",
   "execution_count": null,
   "metadata": {},
   "outputs": [],
   "source": [
    "import sys\n",
    "sys.path.append(str(PROJ_ROOT/'src'))\n",
    "\n",
    "# Method 1\n",
    "# Reference: https://github.com/artofai/overcome-the-chaos/blob/master/notebooks/00-initial-exploration.ipynb\n",
    "%aimport dataops.preprocess\n",
    "%aimport visualization.exploratory\n",
    "from dataops.preprocess import read_raw_data, preprocess_data\n",
    "from visualization.exploratory import exploratory_visualization\n",
    "\n",
    "# Method 2\n",
    "# Reference: https://towardsdatascience.com/structure-and-automated-workflow-for-a-machine-learning-project-part-2-b5b420625102\n",
    "# - search for 'Importing code from src'\n",
    "from dataops.preprocess import read_raw_data, preprocess_data\n",
    "from visualization.exploratory import exploratory_visualization\n"
   ]
  }
 ],
 "metadata": {
  "kernelspec": {
   "display_name": "Python 3",
   "language": "python",
   "name": "python3"
  },
  "language_info": {
   "codemirror_mode": {
    "name": "ipython",
    "version": 3
   },
   "file_extension": ".py",
   "mimetype": "text/x-python",
   "name": "python",
   "nbconvert_exporter": "python",
   "pygments_lexer": "ipython3",
   "version": "3.6.7"
  }
 },
 "nbformat": 4,
 "nbformat_minor": 2
}
